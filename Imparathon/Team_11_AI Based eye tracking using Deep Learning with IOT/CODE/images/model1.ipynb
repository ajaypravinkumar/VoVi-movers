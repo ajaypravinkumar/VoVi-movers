{
 "cells": [
  {
   "cell_type": "code",
   "execution_count": 1,
   "id": "b72d85ef-7f4e-4641-82de-dfca9667c7d7",
   "metadata": {},
   "outputs": [],
   "source": [
    "import os\n",
    "from glob import glob\n",
    "import pandas as pd\n",
    "from functools import reduce\n",
    "from xml.etree import ElementTree as et\n"
   ]
  },
  {
   "cell_type": "code",
   "execution_count": 2,
   "id": "30f2e3cd-5058-4d70-8781-256cc9d915f9",
   "metadata": {},
   "outputs": [
    {
     "data": {
      "text/plain": [
       "['./test/EYE DOWN_1.xml',\n",
       " './test/EYE DOWN_10.xml',\n",
       " './test/EYE DOWN_11.xml',\n",
       " './test/EYE DOWN_12.xml',\n",
       " './test/EYE DOWN_13.xml',\n",
       " './test/EYE DOWN_14.xml',\n",
       " './test/EYE DOWN_15.xml',\n",
       " './test/EYE DOWN_16.xml',\n",
       " './test/EYE DOWN_17.xml',\n",
       " './test/EYE DOWN_18.xml',\n",
       " './test/EYE DOWN_19.xml',\n",
       " './test/EYE DOWN_2.xml',\n",
       " './test/EYE DOWN_20.xml',\n",
       " './test/EYE DOWN_21.xml',\n",
       " './test/EYE DOWN_22.xml',\n",
       " './test/EYE DOWN_23.xml',\n",
       " './test/EYE DOWN_24.xml',\n",
       " './test/EYE DOWN_25.xml',\n",
       " './test/EYE DOWN_26.xml',\n",
       " './test/EYE DOWN_27.xml',\n",
       " './test/EYE DOWN_28.xml',\n",
       " './test/EYE DOWN_29.xml',\n",
       " './test/EYE DOWN_3.xml',\n",
       " './test/EYE DOWN_30.xml',\n",
       " './test/EYE DOWN_31.xml',\n",
       " './test/EYE DOWN_32.xml',\n",
       " './test/EYE DOWN_33.xml',\n",
       " './test/EYE DOWN_34.xml',\n",
       " './test/EYE DOWN_35.xml',\n",
       " './test/EYE DOWN_36.xml',\n",
       " './test/EYE DOWN_37.xml',\n",
       " './test/EYE DOWN_38.xml',\n",
       " './test/EYE DOWN_39.xml',\n",
       " './test/EYE DOWN_4.xml',\n",
       " './test/EYE DOWN_40.xml',\n",
       " './test/EYE DOWN_5.xml',\n",
       " './test/EYE DOWN_6.xml',\n",
       " './test/EYE DOWN_7.xml',\n",
       " './test/EYE DOWN_8.xml',\n",
       " './test/EYE DOWN_9.xml',\n",
       " './test/EYE LEFT_1.xml',\n",
       " './test/EYE LEFT_10.xml',\n",
       " './test/EYE LEFT_11.xml',\n",
       " './test/EYE LEFT_12.xml',\n",
       " './test/EYE LEFT_13.xml',\n",
       " './test/EYE LEFT_14.xml',\n",
       " './test/EYE LEFT_15.xml',\n",
       " './test/EYE LEFT_16.xml',\n",
       " './test/EYE LEFT_17.xml',\n",
       " './test/EYE LEFT_18.xml',\n",
       " './test/EYE LEFT_19.xml',\n",
       " './test/EYE LEFT_2.xml',\n",
       " './test/EYE LEFT_20.xml',\n",
       " './test/EYE LEFT_21.xml',\n",
       " './test/EYE LEFT_22.xml',\n",
       " './test/EYE LEFT_23.xml',\n",
       " './test/EYE LEFT_24.xml',\n",
       " './test/EYE LEFT_25.xml',\n",
       " './test/EYE LEFT_26.xml',\n",
       " './test/EYE LEFT_27.xml',\n",
       " './test/EYE LEFT_28.xml',\n",
       " './test/EYE LEFT_29.xml',\n",
       " './test/EYE LEFT_3.xml',\n",
       " './test/EYE LEFT_30.xml',\n",
       " './test/EYE LEFT_31.xml',\n",
       " './test/EYE LEFT_32.xml',\n",
       " './test/EYE LEFT_33.xml',\n",
       " './test/EYE LEFT_34.xml',\n",
       " './test/EYE LEFT_35.xml',\n",
       " './test/EYE LEFT_36.xml',\n",
       " './test/EYE LEFT_37.xml',\n",
       " './test/EYE LEFT_38.xml',\n",
       " './test/EYE LEFT_39.xml',\n",
       " './test/EYE LEFT_4.xml',\n",
       " './test/EYE LEFT_40.xml',\n",
       " './test/EYE LEFT_5.xml',\n",
       " './test/EYE LEFT_6.xml',\n",
       " './test/EYE LEFT_7.xml',\n",
       " './test/EYE LEFT_8.xml',\n",
       " './test/EYE LEFT_9.xml',\n",
       " './test/EYE RIGHT_1.xml',\n",
       " './test/EYE RIGHT_10.xml',\n",
       " './test/EYE RIGHT_11.xml',\n",
       " './test/EYE RIGHT_12.xml',\n",
       " './test/EYE RIGHT_13.xml',\n",
       " './test/EYE RIGHT_14.xml',\n",
       " './test/EYE RIGHT_15.xml',\n",
       " './test/EYE RIGHT_16.xml',\n",
       " './test/EYE RIGHT_17.xml',\n",
       " './test/EYE RIGHT_18.xml',\n",
       " './test/EYE RIGHT_19.xml',\n",
       " './test/EYE RIGHT_2.xml',\n",
       " './test/EYE RIGHT_20.xml',\n",
       " './test/EYE RIGHT_21.xml',\n",
       " './test/EYE RIGHT_22.xml',\n",
       " './test/EYE RIGHT_23.xml',\n",
       " './test/EYE RIGHT_24.xml',\n",
       " './test/EYE RIGHT_25.xml',\n",
       " './test/EYE RIGHT_26.xml',\n",
       " './test/EYE RIGHT_27.xml',\n",
       " './test/EYE RIGHT_28.xml',\n",
       " './test/EYE RIGHT_29.xml',\n",
       " './test/EYE RIGHT_3.xml',\n",
       " './test/EYE RIGHT_30.xml',\n",
       " './test/EYE RIGHT_31.xml',\n",
       " './test/EYE RIGHT_32.xml',\n",
       " './test/EYE RIGHT_33.xml',\n",
       " './test/EYE RIGHT_34.xml',\n",
       " './test/EYE RIGHT_35.xml',\n",
       " './test/EYE RIGHT_36.xml',\n",
       " './test/EYE RIGHT_37.xml',\n",
       " './test/EYE RIGHT_38.xml',\n",
       " './test/EYE RIGHT_39.xml',\n",
       " './test/EYE RIGHT_4.xml',\n",
       " './test/EYE RIGHT_40.xml',\n",
       " './test/EYE RIGHT_5.xml',\n",
       " './test/EYE RIGHT_6.xml',\n",
       " './test/EYE RIGHT_7.xml',\n",
       " './test/EYE RIGHT_8.xml',\n",
       " './test/EYE RIGHT_9.xml',\n",
       " './test/EYE UP_1.xml',\n",
       " './test/EYE UP_10.xml',\n",
       " './test/EYE UP_11.xml',\n",
       " './test/EYE UP_12.xml',\n",
       " './test/EYE UP_13.xml',\n",
       " './test/EYE UP_14.xml',\n",
       " './test/EYE UP_15.xml',\n",
       " './test/EYE UP_16.xml',\n",
       " './test/EYE UP_17.xml',\n",
       " './test/EYE UP_18.xml',\n",
       " './test/EYE UP_19.xml',\n",
       " './test/EYE UP_2.xml',\n",
       " './test/EYE UP_20.xml',\n",
       " './test/EYE UP_21.xml',\n",
       " './test/EYE UP_22.xml',\n",
       " './test/EYE UP_23.xml',\n",
       " './test/EYE UP_24.xml',\n",
       " './test/EYE UP_25.xml',\n",
       " './test/EYE UP_26.xml',\n",
       " './test/EYE UP_27.xml',\n",
       " './test/EYE UP_28.xml',\n",
       " './test/EYE UP_29.xml',\n",
       " './test/EYE UP_3.xml',\n",
       " './test/EYE UP_30.xml',\n",
       " './test/EYE UP_31.xml',\n",
       " './test/EYE UP_32.xml',\n",
       " './test/EYE UP_33.xml',\n",
       " './test/EYE UP_34.xml',\n",
       " './test/EYE UP_35.xml',\n",
       " './test/EYE UP_36.xml',\n",
       " './test/EYE UP_37.xml',\n",
       " './test/EYE UP_38.xml',\n",
       " './test/EYE UP_4.xml',\n",
       " './test/EYE UP_5.xml',\n",
       " './test/EYE UP_6.xml',\n",
       " './test/EYE UP_7.xml',\n",
       " './test/EYE UP_8.xml',\n",
       " './test/EYE UP_9.xml']"
      ]
     },
     "execution_count": 2,
     "metadata": {},
     "output_type": "execute_result"
    }
   ],
   "source": [
    "#loading xml and storing it in list\n",
    "xml_list = glob('./test/*.xml')\n",
    "#data cleaning\n",
    "xmlfiles = []\n",
    "xmlfiles = list(map(lambda x:x.replace(\"\\\\\",\"/\"),xml_list))\n",
    "xmlfiles"
   ]
  },
  {
   "cell_type": "code",
   "execution_count": 3,
   "id": "8cc2e7d5-9f89-4f56-ba2a-a3440baa1f4c",
   "metadata": {},
   "outputs": [
    {
     "data": {
      "text/plain": [
       "[['EYE DOWN_10.jpg', '800', '600', 'EYE DOWN', '161', '256', '156', '270'],\n",
       " ['EYE DOWN_10.jpg', '800', '600', 'EYE DOWN', '501', '595', '193', '294']]"
      ]
     },
     "execution_count": 3,
     "metadata": {},
     "output_type": "execute_result"
    }
   ],
   "source": [
    "#read xml file, extract filename, width, height, xmin, xmax, ymin, ymax\n",
    "def extract_text(filename):\n",
    "    tree = et.parse(filename)\n",
    "    root = tree.getroot()\n",
    "    image_name = root.find('filename').text\n",
    "    width = root.find('size').find('width').text\n",
    "    height = root.find('size').find('height').text\n",
    "    objs = root.findall('object')\n",
    "    parser = []\n",
    "    for obj in objs:\n",
    "        name = obj.find('name').text\n",
    "        bndbox = obj.find('bndbox')\n",
    "        xmin = bndbox.find('xmin').text\n",
    "        xmax = bndbox.find('xmax').text\n",
    "        ymin = bndbox.find('ymin').text\n",
    "        ymax = bndbox.find('ymax').text\n",
    "        parser.append([image_name,width,height,name,xmin,xmax,ymin,ymax])\n",
    "    return parser\n",
    "parser_all = list(map(extract_text,xmlfiles))\n",
    "parser_all\n",
    "extract_text('./test/EYE DOWN_10.xml')"
   ]
  },
  {
   "cell_type": "code",
   "execution_count": 4,
   "id": "bf45b2f0-20dc-41e7-8ed6-116d0c36cf69",
   "metadata": {},
   "outputs": [
    {
     "data": {
      "text/plain": [
       "[['EYE DOWN_10.jpg', '800', '600', 'EYE DOWN', '161', '256', '156', '270'],\n",
       " ['EYE DOWN_10.jpg', '800', '600', 'EYE DOWN', '501', '595', '193', '294']]"
      ]
     },
     "execution_count": 4,
     "metadata": {},
     "output_type": "execute_result"
    }
   ],
   "source": [
    "extract_text('./test/EYE DOWN_10.xml')"
   ]
  },
  {
   "cell_type": "code",
   "execution_count": 5,
   "id": "7fb775e1-0bde-4ff4-9f18-9a9f5a8739af",
   "metadata": {},
   "outputs": [],
   "source": [
    "data = reduce(lambda x,y : x+y, parser_all) \n",
    "    "
   ]
  },
  {
   "cell_type": "code",
   "execution_count": 6,
   "id": "4dbf085c-2cd8-40b9-801e-5a502891aa47",
   "metadata": {},
   "outputs": [
    {
     "data": {
      "text/html": [
       "<div>\n",
       "<style scoped>\n",
       "    .dataframe tbody tr th:only-of-type {\n",
       "        vertical-align: middle;\n",
       "    }\n",
       "\n",
       "    .dataframe tbody tr th {\n",
       "        vertical-align: top;\n",
       "    }\n",
       "\n",
       "    .dataframe thead th {\n",
       "        text-align: right;\n",
       "    }\n",
       "</style>\n",
       "<table border=\"1\" class=\"dataframe\">\n",
       "  <thead>\n",
       "    <tr style=\"text-align: right;\">\n",
       "      <th></th>\n",
       "      <th>filename</th>\n",
       "      <th>width</th>\n",
       "      <th>height</th>\n",
       "      <th>name</th>\n",
       "      <th>xmin</th>\n",
       "      <th>xmax</th>\n",
       "      <th>ymin</th>\n",
       "      <th>ymax</th>\n",
       "    </tr>\n",
       "  </thead>\n",
       "  <tbody>\n",
       "    <tr>\n",
       "      <th>0</th>\n",
       "      <td>EYE DOWN_1.jpg</td>\n",
       "      <td>800</td>\n",
       "      <td>600</td>\n",
       "      <td>EYE DOWN</td>\n",
       "      <td>101</td>\n",
       "      <td>279</td>\n",
       "      <td>367</td>\n",
       "      <td>494</td>\n",
       "    </tr>\n",
       "    <tr>\n",
       "      <th>1</th>\n",
       "      <td>EYE DOWN_1.jpg</td>\n",
       "      <td>800</td>\n",
       "      <td>600</td>\n",
       "      <td>EYE DOWN</td>\n",
       "      <td>571</td>\n",
       "      <td>725</td>\n",
       "      <td>403</td>\n",
       "      <td>521</td>\n",
       "    </tr>\n",
       "    <tr>\n",
       "      <th>2</th>\n",
       "      <td>EYE DOWN_10.jpg</td>\n",
       "      <td>800</td>\n",
       "      <td>600</td>\n",
       "      <td>EYE DOWN</td>\n",
       "      <td>161</td>\n",
       "      <td>256</td>\n",
       "      <td>156</td>\n",
       "      <td>270</td>\n",
       "    </tr>\n",
       "    <tr>\n",
       "      <th>3</th>\n",
       "      <td>EYE DOWN_10.jpg</td>\n",
       "      <td>800</td>\n",
       "      <td>600</td>\n",
       "      <td>EYE DOWN</td>\n",
       "      <td>501</td>\n",
       "      <td>595</td>\n",
       "      <td>193</td>\n",
       "      <td>294</td>\n",
       "    </tr>\n",
       "    <tr>\n",
       "      <th>4</th>\n",
       "      <td>EYE DOWN_11.jpg</td>\n",
       "      <td>800</td>\n",
       "      <td>600</td>\n",
       "      <td>EYE DOWN</td>\n",
       "      <td>204</td>\n",
       "      <td>284</td>\n",
       "      <td>227</td>\n",
       "      <td>308</td>\n",
       "    </tr>\n",
       "    <tr>\n",
       "      <th>...</th>\n",
       "      <td>...</td>\n",
       "      <td>...</td>\n",
       "      <td>...</td>\n",
       "      <td>...</td>\n",
       "      <td>...</td>\n",
       "      <td>...</td>\n",
       "      <td>...</td>\n",
       "      <td>...</td>\n",
       "    </tr>\n",
       "    <tr>\n",
       "      <th>311</th>\n",
       "      <td>EYE UP_7.jpg</td>\n",
       "      <td>800</td>\n",
       "      <td>600</td>\n",
       "      <td>EYE UP</td>\n",
       "      <td>502</td>\n",
       "      <td>644</td>\n",
       "      <td>281</td>\n",
       "      <td>379</td>\n",
       "    </tr>\n",
       "    <tr>\n",
       "      <th>312</th>\n",
       "      <td>EYE UP_8.jpg</td>\n",
       "      <td>800</td>\n",
       "      <td>600</td>\n",
       "      <td>EYE UP</td>\n",
       "      <td>127</td>\n",
       "      <td>307</td>\n",
       "      <td>280</td>\n",
       "      <td>420</td>\n",
       "    </tr>\n",
       "    <tr>\n",
       "      <th>313</th>\n",
       "      <td>EYE UP_8.jpg</td>\n",
       "      <td>800</td>\n",
       "      <td>600</td>\n",
       "      <td>EYE UP</td>\n",
       "      <td>565</td>\n",
       "      <td>705</td>\n",
       "      <td>234</td>\n",
       "      <td>372</td>\n",
       "    </tr>\n",
       "    <tr>\n",
       "      <th>314</th>\n",
       "      <td>EYE UP_9.jpg</td>\n",
       "      <td>800</td>\n",
       "      <td>600</td>\n",
       "      <td>EYE UP</td>\n",
       "      <td>131</td>\n",
       "      <td>256</td>\n",
       "      <td>278</td>\n",
       "      <td>369</td>\n",
       "    </tr>\n",
       "    <tr>\n",
       "      <th>315</th>\n",
       "      <td>EYE UP_9.jpg</td>\n",
       "      <td>800</td>\n",
       "      <td>600</td>\n",
       "      <td>EYE UP</td>\n",
       "      <td>506</td>\n",
       "      <td>640</td>\n",
       "      <td>278</td>\n",
       "      <td>379</td>\n",
       "    </tr>\n",
       "  </tbody>\n",
       "</table>\n",
       "<p>316 rows × 8 columns</p>\n",
       "</div>"
      ],
      "text/plain": [
       "            filename width height      name xmin xmax ymin ymax\n",
       "0     EYE DOWN_1.jpg   800    600  EYE DOWN  101  279  367  494\n",
       "1     EYE DOWN_1.jpg   800    600  EYE DOWN  571  725  403  521\n",
       "2    EYE DOWN_10.jpg   800    600  EYE DOWN  161  256  156  270\n",
       "3    EYE DOWN_10.jpg   800    600  EYE DOWN  501  595  193  294\n",
       "4    EYE DOWN_11.jpg   800    600  EYE DOWN  204  284  227  308\n",
       "..               ...   ...    ...       ...  ...  ...  ...  ...\n",
       "311     EYE UP_7.jpg   800    600    EYE UP  502  644  281  379\n",
       "312     EYE UP_8.jpg   800    600    EYE UP  127  307  280  420\n",
       "313     EYE UP_8.jpg   800    600    EYE UP  565  705  234  372\n",
       "314     EYE UP_9.jpg   800    600    EYE UP  131  256  278  369\n",
       "315     EYE UP_9.jpg   800    600    EYE UP  506  640  278  379\n",
       "\n",
       "[316 rows x 8 columns]"
      ]
     },
     "execution_count": 6,
     "metadata": {},
     "output_type": "execute_result"
    }
   ],
   "source": [
    "df = pd.DataFrame(data,columns=['filename','width','height','name','xmin','xmax','ymin','ymax'])\n",
    "df"
   ]
  },
  {
   "cell_type": "code",
   "execution_count": 7,
   "id": "64167493-7420-457e-ab7b-fb2304f6b130",
   "metadata": {},
   "outputs": [
    {
     "data": {
      "text/plain": [
       "(316, 8)"
      ]
     },
     "execution_count": 7,
     "metadata": {},
     "output_type": "execute_result"
    }
   ],
   "source": [
    "df.shape"
   ]
  },
  {
   "cell_type": "code",
   "execution_count": 8,
   "id": "1f172aff-e98c-4d94-9f11-4bfc7ab49954",
   "metadata": {},
   "outputs": [
    {
     "data": {
      "text/plain": [
       "name\n",
       "EYE DOWN     81\n",
       "EYE RIGHT    80\n",
       "EYE LEFT     79\n",
       "EYE UP       76\n",
       "Name: count, dtype: int64"
      ]
     },
     "execution_count": 8,
     "metadata": {},
     "output_type": "execute_result"
    }
   ],
   "source": [
    "df['name'].value_counts()"
   ]
  },
  {
   "cell_type": "code",
   "execution_count": 9,
   "id": "cc2fc688-e9b6-4895-b8ae-bee8edd4a3c6",
   "metadata": {},
   "outputs": [
    {
     "name": "stdout",
     "output_type": "stream",
     "text": [
      "<class 'pandas.core.frame.DataFrame'>\n",
      "RangeIndex: 316 entries, 0 to 315\n",
      "Data columns (total 8 columns):\n",
      " #   Column    Non-Null Count  Dtype \n",
      "---  ------    --------------  ----- \n",
      " 0   filename  316 non-null    object\n",
      " 1   width     316 non-null    int64 \n",
      " 2   height    316 non-null    int64 \n",
      " 3   name      316 non-null    object\n",
      " 4   xmin      316 non-null    int64 \n",
      " 5   xmax      316 non-null    int64 \n",
      " 6   ymin      316 non-null    int64 \n",
      " 7   ymax      316 non-null    int64 \n",
      "dtypes: int64(6), object(2)\n",
      "memory usage: 19.9+ KB\n"
     ]
    }
   ],
   "source": [
    "cols = ['width', 'height', 'xmin', 'xmax', 'ymin', 'ymax']  # Exclude 'name' if it's a string\n",
    "df[cols] = df[cols].astype(int)\n",
    "df.info()\n"
   ]
  },
  {
   "cell_type": "code",
   "execution_count": 10,
   "id": "b67a1b6d-894a-464d-9ab9-7d9477c55e1e",
   "metadata": {},
   "outputs": [],
   "source": [
    "#center x, center y\n",
    "df['center_x'] = ((df['xmin']+df['xmax'])/2)/df['width']\n",
    "df['center_y'] = ((df['ymin']+df['ymax'])/2)/df['height']"
   ]
  },
  {
   "cell_type": "code",
   "execution_count": 11,
   "id": "8816e0d5-9447-416f-b076-fb31c7f0d76c",
   "metadata": {},
   "outputs": [],
   "source": [
    "#w #h\n",
    "df['w'] = (df['xmax']-df['xmin'])/df['width']\n",
    "df['h'] = (df['ymax']-df['ymin'])/df['height']"
   ]
  },
  {
   "cell_type": "code",
   "execution_count": 12,
   "id": "a21a5d9c-07fc-4ce1-b289-0bb856283b05",
   "metadata": {},
   "outputs": [
    {
     "name": "stdout",
     "output_type": "stream",
     "text": [
      "<class 'pandas.core.frame.DataFrame'>\n",
      "RangeIndex: 316 entries, 0 to 315\n",
      "Data columns (total 12 columns):\n",
      " #   Column    Non-Null Count  Dtype  \n",
      "---  ------    --------------  -----  \n",
      " 0   filename  316 non-null    object \n",
      " 1   width     316 non-null    int64  \n",
      " 2   height    316 non-null    int64  \n",
      " 3   class     316 non-null    object \n",
      " 4   xmin      316 non-null    int64  \n",
      " 5   xmax      316 non-null    int64  \n",
      " 6   ymin      316 non-null    int64  \n",
      " 7   ymax      316 non-null    int64  \n",
      " 8   center_x  316 non-null    float64\n",
      " 9   center_y  316 non-null    float64\n",
      " 10  w         316 non-null    float64\n",
      " 11  h         316 non-null    float64\n",
      "dtypes: float64(4), int64(6), object(2)\n",
      "memory usage: 29.8+ KB\n"
     ]
    }
   ],
   "source": [
    "#label encoding\n",
    "df.rename(columns={'name': 'class'}, inplace=True)\n",
    "df.info()"
   ]
  },
  {
   "cell_type": "code",
   "execution_count": 13,
   "id": "dccd8fae-9eb9-4fef-9625-c3df961aa991",
   "metadata": {},
   "outputs": [
    {
     "data": {
      "text/plain": [
       "array(['EYE DOWN', 'EYE LEFT', 'EYE RIGHT', 'EYE UP'], dtype=object)"
      ]
     },
     "execution_count": 13,
     "metadata": {},
     "output_type": "execute_result"
    }
   ],
   "source": [
    "df['class'] = df['class'].str.replace(r'_\\d+', '', regex=True)\n",
    "df['class'].unique()"
   ]
  },
  {
   "cell_type": "code",
   "execution_count": 14,
   "id": "1d60ed65-55a1-4afb-acf4-360cdb0db576",
   "metadata": {},
   "outputs": [],
   "source": [
    "\n",
    "required_columns = ['filename', 'width', 'height', 'class', 'xmin', 'ymin', 'xmax', 'ymax']\n",
    "df_selected = df[required_columns]\n",
    "\n",
    "# Save the selected columns to a CSV file\n",
    "df_selected.to_csv('test_label1.csv', index=False)"
   ]
  },
  {
   "cell_type": "code",
   "execution_count": null,
   "id": "7a360354-95e4-4141-909d-30b540061423",
   "metadata": {},
   "outputs": [],
   "source": []
  },
  {
   "cell_type": "code",
   "execution_count": null,
   "id": "71cdcf6c-02fc-4568-a867-cec44719afec",
   "metadata": {},
   "outputs": [],
   "source": []
  }
 ],
 "metadata": {
  "kernelspec": {
   "display_name": "Python 3 (ipykernel)",
   "language": "python",
   "name": "python3"
  },
  "language_info": {
   "codemirror_mode": {
    "name": "ipython",
    "version": 3
   },
   "file_extension": ".py",
   "mimetype": "text/x-python",
   "name": "python",
   "nbconvert_exporter": "python",
   "pygments_lexer": "ipython3",
   "version": "3.12.5"
  }
 },
 "nbformat": 4,
 "nbformat_minor": 5
}
